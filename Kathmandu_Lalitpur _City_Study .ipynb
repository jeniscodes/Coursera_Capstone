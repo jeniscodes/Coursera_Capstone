{
 "cells": [
  {
   "cell_type": "markdown",
   "metadata": {},
   "source": [
    "<h2> Introduction </h2>\n",
    "\n",
    "Kathmandu and Lalitpur are two biggest cities of Nepal . Although being two different cities they are almost  a combined city for residents of these two metropolitian cities as they are only divided by river Bagmati and daily thousands of people cross these two cities for as their normal routine.\n",
    "\n",
    "For this project we want to classify different wards of these two cities on the basis of venues  to study both city as one and look out the places which mirrors each other or acts as one unit . We are also taking look at the population density of these wards for detail information. This project would be really insightful for inhabitants who want to explore different wards of both cities on basis of their desire venues and population."
   ]
  },
  {
   "cell_type": "markdown",
   "metadata": {},
   "source": [
    "<h2> Data Collection</h2>\n",
    "\n",
    "We need to collect data regarding different wards , their locations , population density , area for Kathmandu and Lalitpur city    \n",
    "\n",
    "As we are collecting data for two cities Kathmandu and Lalitpur , we will at first individually collect data for each city and later merge them as a single dataset for two cities. Data for individual city are scrapped and collected from data provided from respective metropolitian city websites. As most data about wards areas, population and location were in Nepali langauge we have to translate it to English using google translate saved the site  and then scrap the data importing the saved site . "
   ]
  },
  {
   "cell_type": "code",
   "execution_count": null,
   "metadata": {},
   "outputs": [],
   "source": []
  }
 ],
 "metadata": {
  "kernelspec": {
   "display_name": "Python 3",
   "language": "python",
   "name": "python3"
  },
  "language_info": {
   "codemirror_mode": {
    "name": "ipython",
    "version": 3
   },
   "file_extension": ".py",
   "mimetype": "text/x-python",
   "name": "python",
   "nbconvert_exporter": "python",
   "pygments_lexer": "ipython3",
   "version": "3.7.4"
  }
 },
 "nbformat": 4,
 "nbformat_minor": 2
}
